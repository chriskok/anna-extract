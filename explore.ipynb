{
 "cells": [
  {
   "cell_type": "code",
   "execution_count": 1,
   "source": [
    "import cv2"
   ],
   "outputs": [],
   "metadata": {}
  },
  {
   "cell_type": "code",
   "execution_count": 2,
   "source": [
    "image_path = \"public/data/service_call.jpg\"\r\n",
    "\r\n",
    "# what each item means: [element.width, element.height, element.centerX, element.centerY, element.top, element.left]\r\n",
    "example_data = {'Date': [157, 25, 308.5, 88.5, 76, 230], 'Name': [176, 28, 184, 110, 96, 96], 'Add': [243, 22, 240.5, 130, 119, 119]}"
   ],
   "outputs": [],
   "metadata": {}
  },
  {
   "cell_type": "code",
   "execution_count": 3,
   "source": [
    "img = cv2.imread(image_path)\r\n",
    "coord_data = example_data['Date']\r\n",
    "coord_w = coord_data[0] \r\n",
    "coord_h = coord_data[1] \r\n",
    "coord_top = coord_data[4] \r\n",
    "coord_left = coord_data[5] \r\n",
    "\r\n",
    "crop_img = img[coord_top - coord_h:coord_top, coord_left:coord_left + coord_w]\r\n",
    "cv2.imshow(\"cropped\", crop_img)\r\n",
    "cv2.waitKey(0)\r\n",
    "cv2.destroyAllWindows()"
   ],
   "outputs": [
    {
     "output_type": "execute_result",
     "data": {
      "text/plain": [
       "-1"
      ]
     },
     "metadata": {},
     "execution_count": 3
    }
   ],
   "metadata": {}
  },
  {
   "cell_type": "code",
   "execution_count": null,
   "source": [],
   "outputs": [],
   "metadata": {}
  }
 ],
 "metadata": {
  "orig_nbformat": 4,
  "language_info": {
   "name": "python",
   "version": "3.8.8",
   "mimetype": "text/x-python",
   "codemirror_mode": {
    "name": "ipython",
    "version": 3
   },
   "pygments_lexer": "ipython3",
   "nbconvert_exporter": "python",
   "file_extension": ".py"
  },
  "kernelspec": {
   "name": "python3",
   "display_name": "Python 3.7.0 64-bit ('anna': conda)"
  },
  "interpreter": {
   "hash": "ee19518d0d6ff615a7ac38a3ee408e67326a74d97640741140aced29a838b20d"
  }
 },
 "nbformat": 4,
 "nbformat_minor": 2
}