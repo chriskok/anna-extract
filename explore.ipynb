{
 "cells": [
  {
   "cell_type": "markdown",
   "source": [
    "## Testing OpenCV Cropping"
   ],
   "metadata": {}
  },
  {
   "cell_type": "code",
   "execution_count": 6,
   "source": [
    "import cv2"
   ],
   "outputs": [],
   "metadata": {}
  },
  {
   "cell_type": "code",
   "execution_count": 26,
   "source": [
    "image_path = \"public/data/service_call.jpg\"\r\n",
    "\r\n",
    "# what each item means: [element.width, element.height, element.top, element.left, sampleImage.width, sampleImage.height];\r\n",
    "example_data = {\"Date\":[159,30,73,231,407,634],\"Name\":[316,77,96,54,407,634]}"
   ],
   "outputs": [],
   "metadata": {}
  },
  {
   "cell_type": "code",
   "execution_count": 27,
   "source": [
    "img = cv2.imread(image_path)\r\n",
    "coord_data = example_data['Name']\r\n",
    "coord_w = coord_data[0] \r\n",
    "coord_h = coord_data[1] \r\n",
    "coord_top = coord_data[2] \r\n",
    "coord_left = coord_data[3] \r\n",
    "interface_w = coord_data[4] \r\n",
    "interface_h = coord_data[5] \r\n",
    "\r\n",
    "height, width, _ = img.shape"
   ],
   "outputs": [],
   "metadata": {}
  },
  {
   "cell_type": "code",
   "execution_count": 28,
   "source": [
    "# int_val/int_total = x/curr_total\r\n",
    "# x = curr_total * (int_val/int_total)\r\n",
    "def get_proportional(int_val, int_total, curr_total):\r\n",
    "    return curr_total * (int_val/int_total)\r\n",
    "\r\n",
    "coord_w = int(get_proportional(coord_data[0], interface_w, width))\r\n",
    "coord_h = int(get_proportional(coord_data[1], interface_h, height))\r\n",
    "coord_top = int(get_proportional(coord_data[2], interface_h, height))\r\n",
    "coord_left = int(get_proportional(coord_data[3], interface_w, width))"
   ],
   "outputs": [],
   "metadata": {}
  },
  {
   "cell_type": "code",
   "execution_count": 29,
   "source": [
    "crop_img = img[coord_top:coord_top  + coord_h, coord_left:coord_left + coord_w]\r\n",
    "cv2.imshow(\"cropped\", crop_img)\r\n",
    "cv2.waitKey(0)\r\n",
    "cv2.destroyAllWindows()"
   ],
   "outputs": [],
   "metadata": {}
  },
  {
   "cell_type": "markdown",
   "source": [
    "**Lessons Learnt:**\r\n",
    "- The coordinates passed back depend on the size of the Image on the user's screen. However, scrolling up and down do not affect things. Just need to tell the user not to resize between annotations.\r\n",
    "  - Can fix it with some quick math~ RATIOS!\r\n",
    "- Coordinates also are measured from the top (highest point is 0, lowest is size of image) and from the left."
   ],
   "metadata": {}
  },
  {
   "cell_type": "markdown",
   "source": [
    "## Testing Tesseract-OCR"
   ],
   "metadata": {}
  },
  {
   "cell_type": "code",
   "execution_count": 16,
   "source": [
    "try:\r\n",
    "    from PIL import Image\r\n",
    "except ImportError:\r\n",
    "    import Image\r\n",
    "import pytesseract\r\n",
    "import cv2\r\n",
    "\r\n",
    "pytesseract.pytesseract.tesseract_cmd = r'C:\\Program Files\\Tesseract-OCR\\tesseract'"
   ],
   "outputs": [],
   "metadata": {}
  },
  {
   "cell_type": "code",
   "execution_count": 17,
   "source": [
    "\r\n",
    "img_cv = cv2.imread('./public/data/aws_dns.PNG')\r\n",
    "\r\n",
    "img_rgb = cv2.cvtColor(img_cv, cv2.COLOR_BGR2RGB)\r\n",
    "print(pytesseract.image_to_string(img_rgb))"
   ],
   "outputs": [
    {
     "output_type": "stream",
     "name": "stdout",
     "text": [
      "@ t'luse my own nameservers\n",
      "\n",
      "ns-1430.awsdns-50.org\n",
      "ns-269.awsdns-33.com\n",
      "ns-1929.awsdns-49.co.uk\n",
      "\n",
      "ns-783.awsdns-33.net\n",
      "\f\n"
     ]
    }
   ],
   "metadata": {}
  },
  {
   "cell_type": "markdown",
   "source": [
    "## OCR + Cropped Images"
   ],
   "metadata": {}
  },
  {
   "cell_type": "code",
   "execution_count": 1,
   "source": [
    "try:\r\n",
    "    from PIL import Image\r\n",
    "except ImportError:\r\n",
    "    import Image\r\n",
    "import pytesseract\r\n",
    "import cv2\r\n",
    "\r\n",
    "pytesseract.pytesseract.tesseract_cmd = r'C:\\Program Files\\Tesseract-OCR\\tesseract'"
   ],
   "outputs": [],
   "metadata": {}
  },
  {
   "cell_type": "code",
   "execution_count": 11,
   "source": [
    "curr_image_path = \"public/data/service_call.jpg\"\r\n",
    "\r\n",
    "# what each item means: [element.width, element.height, element.top, element.left, sampleImage.width, sampleImage.height];\r\n",
    "example_data = {\"Date\":[159,30,73,231,407,634],\"Name\":[316,77,96,54,407,634]}\r\n",
    "curr_coord_data = example_data['Name']\r\n",
    "\r\n",
    "# int_val/int_total = x/curr_total\r\n",
    "# x = curr_total * (int_val/int_total)\r\n",
    "def get_proportional(int_val, int_total, curr_total):\r\n",
    "    return curr_total * (int_val/int_total)\r\n",
    "\r\n",
    "def crop_image(coord_data, image_path):\r\n",
    "    img = cv2.imread(image_path)\r\n",
    "    interface_w = coord_data[4] \r\n",
    "    interface_h = coord_data[5] \r\n",
    "\r\n",
    "    height, width, _ = img.shape\r\n",
    "\r\n",
    "    coord_w = int(get_proportional(coord_data[0], interface_w, width))\r\n",
    "    coord_h = int(get_proportional(coord_data[1], interface_h, height))\r\n",
    "    coord_top = int(get_proportional(coord_data[2], interface_h, height))\r\n",
    "    coord_left = int(get_proportional(coord_data[3], interface_w, width))\r\n",
    "\r\n",
    "    crop_img = img[coord_top:coord_top  + coord_h, coord_left:coord_left + coord_w]\r\n",
    "    return crop_img\r\n",
    "\r\n",
    "cropped_image = crop_image(curr_coord_data, curr_image_path)"
   ],
   "outputs": [],
   "metadata": {}
  },
  {
   "cell_type": "code",
   "execution_count": 12,
   "source": [
    "cv2.imshow(\"cropped\", cropped_image)\r\n",
    "cv2.waitKey(0)\r\n",
    "cv2.destroyAllWindows()"
   ],
   "outputs": [],
   "metadata": {}
  },
  {
   "cell_type": "code",
   "execution_count": 16,
   "source": [
    "img_rgb = cv2.cvtColor(cropped_image, cv2.COLOR_BGR2RGB)\r\n",
    "# cv2.imshow(\"cropped\", img_rgb)\r\n",
    "# cv2.waitKey(0)\r\n",
    "# cv2.destroyAllWindows()\r\n",
    "print(pytesseract.image_to_string(img_rgb, config='--psm 7 -c tessedit_char_whitelist=0123456789.%'))\r\n",
    "\r\n",
    "gray = cv2.cvtColor(cropped_image, cv2.COLOR_BGR2GRAY)\r\n",
    "thresh = cv2.threshold(gray, 0, 255, cv2.THRESH_BINARY_INV + cv2.THRESH_OTSU)[1]\r\n",
    "\r\n",
    "data = pytesseract.image_to_string(thresh, lang='eng',config='--psm 6')\r\n",
    "print(data)"
   ],
   "outputs": [
    {
     "output_type": "stream",
     "name": "stdout",
     "text": [
      "\f\n",
      "Name___¢.fh2 ___-CODE\n",
      "Address_ 0/9 tee tialas, -F\n",
      "Phone No.2 47 iE “£all Rec’vd _/O 7 ©\n",
      "\f\n"
     ]
    }
   ],
   "metadata": {}
  },
  {
   "cell_type": "code",
   "execution_count": null,
   "source": [],
   "outputs": [],
   "metadata": {}
  }
 ],
 "metadata": {
  "orig_nbformat": 4,
  "language_info": {
   "name": "python",
   "version": "3.8.8",
   "mimetype": "text/x-python",
   "codemirror_mode": {
    "name": "ipython",
    "version": 3
   },
   "pygments_lexer": "ipython3",
   "nbconvert_exporter": "python",
   "file_extension": ".py"
  },
  "kernelspec": {
   "name": "python3",
   "display_name": "Python 3.8.8 64-bit ('anna': conda)"
  },
  "interpreter": {
   "hash": "ee19518d0d6ff615a7ac38a3ee408e67326a74d97640741140aced29a838b20d"
  }
 },
 "nbformat": 4,
 "nbformat_minor": 2
}